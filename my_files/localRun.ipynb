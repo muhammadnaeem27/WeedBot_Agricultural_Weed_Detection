{
 "cells": [
  {
   "cell_type": "code",
   "execution_count": 1,
   "id": "7b3a700c",
   "metadata": {},
   "outputs": [
    {
     "data": {
      "text/plain": [
       "'D:\\\\Finalyearproject\\\\yolov5-20230513T175146Z-001\\\\yolov5'"
      ]
     },
     "execution_count": 1,
     "metadata": {},
     "output_type": "execute_result"
    }
   ],
   "source": [
    "pwd"
   ]
  },
  {
   "cell_type": "code",
   "execution_count": 2,
   "id": "5c6dd7d6",
   "metadata": {},
   "outputs": [
    {
     "name": "stdout",
     "output_type": "stream",
     "text": [
      "D:\\Finalyearproject\\yolov5-20230513T175146Z-001\\yolov5\n"
     ]
    }
   ],
   "source": [
    "cd D:\\\\Finalyearproject\\\\yolov5-20230513T175146Z-001\\\\yolov5"
   ]
  },
  {
   "cell_type": "code",
   "execution_count": 4,
   "id": "708f4acb",
   "metadata": {},
   "outputs": [
    {
     "name": "stderr",
     "output_type": "stream",
     "text": [
      "\u001b[34m\u001b[1mdetect: \u001b[0mweights=['best.pt'], source=D:\\AGROAI\\Weeds dataset 416x416\\416x416\\bhutwa\\IMG20221215153110.jpg, data=data\\coco128.yaml, imgsz=[640, 640], conf_thres=0.4, iou_thres=0.45, max_det=1000, device=, view_img=False, save_txt=False, save_conf=False, save_crop=False, nosave=False, classes=None, agnostic_nms=False, augment=False, visualize=False, update=False, project=runs\\detect, name=exp, exist_ok=False, line_thickness=3, hide_labels=False, hide_conf=False, half=False, dnn=False\n",
      "YOLOv5  v6.1-306-gfbe67e4 Python-3.10.4 torch-2.0.1+cpu CPU\n",
      "\n",
      "Fusing layers... \n",
      "custom_YOLOv5s summary: 232 layers, 7254609 parameters, 0 gradients\n",
      "image 1/1 D:\\AGROAI\\Weeds dataset 416x416\\416x416\\bhutwa\\IMG20221215153110.jpg: 640x640 1 lamb-s quarter, Done. (1.210s)\n",
      "Speed: 0.0ms pre-process, 1210.0ms inference, 15.7ms NMS per image at shape (1, 3, 640, 640)\n",
      "Results saved to \u001b[1mruns\\detect\\exp53\u001b[0m\n"
     ]
    }
   ],
   "source": [
    "!python detect.py --weights best.pt --conf 0.4 --source \"D:\\AGROAI\\Weeds dataset 416x416\\416x416\\bhutwa\\IMG20221215153110.jpg\"\n"
   ]
  },
  {
   "cell_type": "code",
   "execution_count": 1,
   "id": "47143b54",
   "metadata": {},
   "outputs": [
    {
     "name": "stderr",
     "output_type": "stream",
     "text": [
      "\u001b[34m\u001b[1mdetectcoordinates: \u001b[0mweights=['best.pt'], source=D:\\AGROAI\\Weeds dataset 416x416\\416x416\\bhutwa\\IMG20221215153110.jpg, data=data\\coco128.yaml, imgsz=[640, 640], conf_thres=0.4, iou_thres=0.45, max_det=1000, device=, view_img=False, save_txt=False, save_conf=False, save_crop=False, nosave=False, classes=None, agnostic_nms=False, augment=False, visualize=False, update=False, project=runs\\detect, name=exp, exist_ok=False, line_thickness=3, hide_labels=False, hide_conf=False, half=False, dnn=False, vid_stride=1\n",
      "YOLOv5  v6.1-306-gfbe67e4 Python-3.10.4 torch-2.0.1+cpu CPU\n",
      "\n",
      "Fusing layers... \n",
      "custom_YOLOv5s summary: 232 layers, 7254609 parameters, 0 gradients\n",
      "image 1/1 D:\\AGROAI\\Weeds dataset 416x416\\416x416\\bhutwa\\IMG20221215153110.jpg: 640x640 1 lamb-s quarter, 754.0ms\n",
      "Speed: 0.0ms pre-process, 754.0ms inference, 15.6ms NMS per image at shape (1, 3, 640, 640)\n"
     ]
    }
   ],
   "source": [
    "!python detectcoordinates.py --weights best.pt --conf 0.4 --source \"D:\\AGROAI\\Weeds dataset 416x416\\416x416\\bhutwa\\IMG20221215153110.jpg\"\n"
   ]
  },
  {
   "cell_type": "code",
   "execution_count": 1,
   "id": "d8ca199b",
   "metadata": {},
   "outputs": [
    {
     "name": "stderr",
     "output_type": "stream",
     "text": [
      "\u001b[34m\u001b[1mdetectcoordinates: \u001b[0mweights=['best.pt'], source=http://192.168.166.10:6677/videofeed?username=, data=data\\coco128.yaml, imgsz=[640, 640], conf_thres=0.4, iou_thres=0.45, max_det=1000, device=, view_img=False, save_txt=False, save_conf=False, save_crop=False, nosave=False, classes=None, agnostic_nms=False, augment=False, visualize=False, update=False, project=runs\\detect, name=exp, exist_ok=False, line_thickness=3, hide_labels=False, hide_conf=False, half=False, dnn=False, vid_stride=1\n",
      "YOLOv5  v6.1-306-gfbe67e4 Python-3.10.4 torch-2.0.1+cpu CPU\n",
      "\n",
      "Fusing layers... \n",
      "custom_YOLOv5s summary: 232 layers, 7254609 parameters, 0 gradients\n",
      "1/1: http://192.168.166.10:6677/videofeed?username=...  Success (inf frames 420x640 at 25.00 FPS)\n",
      "\n",
      "0: 640x448 (no detections), 1037.1ms\n",
      "0: 640x448 (no detections), 2401.1ms\n",
      "0: 640x448 (no detections), 990.9ms\n",
      "0: 640x448 (no detections), 979.6ms\n",
      "0: 640x448 (no detections), 736.7ms\n",
      "0: 640x448 (no detections), 733.1ms\n",
      "0: 640x448 (no detections), 730.8ms\n",
      "0: 640x448 (no detections), 871.8ms\n",
      "0: 640x448 (no detections), 719.1ms\n",
      "0: 640x448 (no detections), 655.5ms\n",
      "0: 640x448 (no detections), 643.5ms\n",
      "0: 640x448 (no detections), 660.4ms\n",
      "0: 640x448 (no detections), 663.5ms\n",
      "0: 640x448 (no detections), 675.8ms\n",
      "0: 640x448 (no detections), 681.0ms\n",
      "0: 640x448 (no detections), 804.1ms\n",
      "0: 640x448 (no detections), 761.5ms\n",
      "0: 640x448 (no detections), 653.6ms\n",
      "0: 640x448 (no detections), 644.7ms\n",
      "0: 640x448 (no detections), 675.3ms\n",
      "0: 640x448 (no detections), 765.3ms\n",
      "0: 640x448 1 borh, 940.6ms\n",
      "0: 640x448 (no detections), 832.1ms\n",
      "0: 640x448 (no detections), 894.6ms\n",
      "0: 640x448 (no detections), 1522.7ms\n",
      "0: 640x448 (no detections), 1579.0ms\n",
      "0: 640x448 1 parthenium hysterophorus, 1239.4ms\n",
      "0: 640x448 (no detections), 997.8ms\n",
      "0: 640x448 1 borh, 848.0ms\n",
      "0: 640x448 2 borhs, 1429.7ms\n",
      "0: 640x448 2 borhs, 754.5ms\n",
      "0: 640x448 1 borh, 659.7ms\n",
      "0: 640x448 1 borh, 668.0ms\n",
      "0: 640x448 1 borh, 662.8ms\n",
      "0: 640x448 2 borhs, 660.4ms\n",
      "0: 640x448 1 borh, 675.7ms\n",
      "0: 640x448 1 borh, 878.4ms\n",
      "0: 640x448 (no detections), 706.8ms\n",
      "0: 640x448 1 borh, 709.3ms\n",
      "0: 640x448 1 borh, 705.8ms\n",
      "0: 640x448 1 borh, 707.8ms\n",
      "0: 640x448 1 borh, 848.3ms\n",
      "0: 640x448 1 borh, 834.9ms\n",
      "0: 640x448 2 borhs, 644.5ms\n",
      "0: 640x448 1 borh, 668.6ms\n",
      "0: 640x448 1 borh, 691.3ms\n",
      "0: 640x448 2 borhs, 674.9ms\n",
      "0: 640x448 4 borhs, 675.7ms\n",
      "0: 640x448 1 borh, 670.9ms\n",
      "0: 640x448 1 borh, 706.6ms\n",
      "0: 640x448 1 borh, 708.0ms\n",
      "0: 640x448 1 borh, 691.4ms\n",
      "0: 640x448 2 borhs, 691.2ms\n",
      "0: 640x448 2 borhs, 716.5ms\n",
      "0: 640x448 2 borhs, 753.5ms\n",
      "0: 640x448 2 borhs, 831.9ms\n",
      "0: 640x448 2 borhs, 803.1ms\n",
      "0: 640x448 (no detections), 696.8ms\n",
      "0: 640x448 (no detections), 816.6ms\n",
      "0: 640x448 1 borh, 658.3ms\n",
      "0: 640x448 (no detections), 1038.4ms\n",
      "0: 640x448 (no detections), 696.6ms\n",
      "0: 640x448 (no detections), 928.8ms\n",
      "Speed: 0.7ms pre-process, 825.5ms inference, 1.0ms NMS per image at shape (1, 3, 640, 640)\n"
     ]
    }
   ],
   "source": [
    "!python detectcoordinates.py --weights best.pt --conf 0.4 --source http://192.168.166.10:6677/videofeed?username=\n"
   ]
  },
  {
   "cell_type": "code",
   "execution_count": null,
   "id": "d7d2737e",
   "metadata": {},
   "outputs": [],
   "source": []
  }
 ],
 "metadata": {
  "kernelspec": {
   "display_name": "Python 3 (ipykernel)",
   "language": "python",
   "name": "python3"
  },
  "language_info": {
   "codemirror_mode": {
    "name": "ipython",
    "version": 3
   },
   "file_extension": ".py",
   "mimetype": "text/x-python",
   "name": "python",
   "nbconvert_exporter": "python",
   "pygments_lexer": "ipython3",
   "version": "3.10.4"
  }
 },
 "nbformat": 4,
 "nbformat_minor": 5
}
